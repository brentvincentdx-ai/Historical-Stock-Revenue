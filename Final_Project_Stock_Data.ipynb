{
 "cells": [
  {
   "cell_type": "markdown",
   "id": "687ea2a9",
   "metadata": {},
   "source": [
    "# Question 1 - Extracting Tesla Stock Data Using yfinance"
   ]
  },
  {
   "cell_type": "code",
   "execution_count": null,
   "id": "7775d3a7",
   "metadata": {},
   "outputs": [],
   "source": [
    "\n",
    "import yfinance as yf\n",
    "import pandas as pd\n",
    "\n",
    "# Download Tesla stock data\n",
    "tesla = yf.Ticker(\"TSLA\")\n",
    "tesla_data = tesla.history(period=\"max\")\n",
    "tesla_data.reset_index(inplace=True)\n",
    "tesla_data.head()\n"
   ]
  },
  {
   "cell_type": "markdown",
   "id": "ae3e670b",
   "metadata": {},
   "source": [
    "# Question 2 - Extracting Tesla Revenue Data Using Webscraping"
   ]
  },
  {
   "cell_type": "code",
   "execution_count": null,
   "id": "70874d25",
   "metadata": {},
   "outputs": [],
   "source": [
    "\n",
    "import requests\n",
    "from bs4 import BeautifulSoup\n",
    "\n",
    "url = \"https://www.macrotrends.net/stocks/charts/TSLA/tesla/revenue\"\n",
    "html_data = requests.get(url).text\n",
    "soup = BeautifulSoup(html_data, \"html.parser\")\n",
    "\n",
    "tesla_revenue = pd.DataFrame(columns=[\"Date\", \"Revenue\"])\n",
    "\n",
    "for row in soup.find_all(\"tr\"):\n",
    "    cols = row.find_all(\"td\")\n",
    "    if len(cols) == 2:\n",
    "        date = cols[0].text.strip()\n",
    "        revenue = cols[1].text.strip().replace(\",\", \"\").replace(\"$\", \"\")\n",
    "        if revenue != \"\":\n",
    "            tesla_revenue = tesla_revenue.append({\"Date\": date, \"Revenue\": revenue}, ignore_index=True)\n",
    "\n",
    "tesla_revenue.head()\n"
   ]
  },
  {
   "cell_type": "markdown",
   "id": "4f5de639",
   "metadata": {},
   "source": [
    "# Question 3 - Extracting GameStop Stock Data Using yfinance"
   ]
  },
  {
   "cell_type": "code",
   "execution_count": null,
   "id": "e411bc23",
   "metadata": {},
   "outputs": [],
   "source": [
    "\n",
    "# Download GameStop stock data\n",
    "gme = yf.Ticker(\"GME\")\n",
    "gme_data = gme.history(period=\"max\")\n",
    "gme_data.reset_index(inplace=True)\n",
    "gme_data.head()\n"
   ]
  },
  {
   "cell_type": "markdown",
   "id": "877b21d2",
   "metadata": {},
   "source": [
    "# Question 4 - Extracting GameStop Revenue Data Using Webscraping"
   ]
  },
  {
   "cell_type": "code",
   "execution_count": null,
   "id": "ee8f0846",
   "metadata": {},
   "outputs": [],
   "source": [
    "\n",
    "url = \"https://www.macrotrends.net/stocks/charts/GME/gamestop/revenue\"\n",
    "html_data = requests.get(url).text\n",
    "soup = BeautifulSoup(html_data, \"html.parser\")\n",
    "\n",
    "gme_revenue = pd.DataFrame(columns=[\"Date\", \"Revenue\"])\n",
    "\n",
    "for row in soup.find_all(\"tr\"):\n",
    "    cols = row.find_all(\"td\")\n",
    "    if len(cols) == 2:\n",
    "        date = cols[0].text.strip()\n",
    "        revenue = cols[1].text.strip().replace(\",\", \"\").replace(\"$\", \"\")\n",
    "        if revenue != \"\":\n",
    "            gme_revenue = gme_revenue.append({\"Date\": date, \"Revenue\": revenue}, ignore_index=True)\n",
    "\n",
    "gme_revenue.head()\n"
   ]
  },
  {
   "cell_type": "markdown",
   "id": "1365ef81",
   "metadata": {},
   "source": [
    "# Question 5 - Tesla Stock and Revenue Dashboard"
   ]
  },
  {
   "cell_type": "code",
   "execution_count": null,
   "id": "e8ba00e4",
   "metadata": {},
   "outputs": [],
   "source": [
    "\n",
    "import matplotlib.pyplot as plt\n",
    "\n",
    "# Clean revenue data\n",
    "tesla_revenue[\"Revenue\"] = pd.to_numeric(tesla_revenue[\"Revenue\"], errors=\"coerce\")\n",
    "tesla_revenue.dropna(inplace=True)\n",
    "\n",
    "# Plot Tesla Stock and Revenue\n",
    "fig, ax1 = plt.subplots(figsize=(12,6))\n",
    "\n",
    "ax1.plot(tesla_data[\"Date\"], tesla_data[\"Close\"], color=\"blue\", label=\"Tesla Stock Price\")\n",
    "ax1.set_xlabel(\"Date\")\n",
    "ax1.set_ylabel(\"Stock Price (USD)\", color=\"blue\")\n",
    "ax1.tick_params(axis=\"y\", labelcolor=\"blue\")\n",
    "\n",
    "ax2 = ax1.twinx()\n",
    "ax2.plot(tesla_revenue[\"Date\"], tesla_revenue[\"Revenue\"], color=\"green\", label=\"Tesla Revenue\")\n",
    "ax2.set_ylabel(\"Revenue (USD Millions)\", color=\"green\")\n",
    "ax2.tick_params(axis=\"y\", labelcolor=\"green\")\n",
    "\n",
    "plt.title(\"Tesla Stock Price vs Revenue\")\n",
    "plt.show()\n"
   ]
  },
  {
   "cell_type": "markdown",
   "id": "c01c96a6",
   "metadata": {},
   "source": [
    "# Question 6 - GameStop Stock and Revenue Dashboard"
   ]
  },
  {
   "cell_type": "code",
   "execution_count": null,
   "id": "8a0cf2fd",
   "metadata": {},
   "outputs": [],
   "source": [
    "\n",
    "# Clean revenue data\n",
    "gme_revenue[\"Revenue\"] = pd.to_numeric(gme_revenue[\"Revenue\"], errors=\"coerce\")\n",
    "gme_revenue.dropna(inplace=True)\n",
    "\n",
    "# Plot GameStop Stock and Revenue\n",
    "fig, ax1 = plt.subplots(figsize=(12,6))\n",
    "\n",
    "ax1.plot(gme_data[\"Date\"], gme_data[\"Close\"], color=\"red\", label=\"GameStop Stock Price\")\n",
    "ax1.set_xlabel(\"Date\")\n",
    "ax1.set_ylabel(\"Stock Price (USD)\", color=\"red\")\n",
    "ax1.tick_params(axis=\"y\", labelcolor=\"red\")\n",
    "\n",
    "ax2 = ax1.twinx()\n",
    "ax2.plot(gme_revenue[\"Date\"], gme_revenue[\"Revenue\"], color=\"purple\", label=\"GameStop Revenue\")\n",
    "ax2.set_ylabel(\"Revenue (USD Millions)\", color=\"purple\")\n",
    "ax2.tick_params(axis=\"y\", labelcolor=\"purple\")\n",
    "\n",
    "plt.title(\"GameStop Stock Price vs Revenue\")\n",
    "plt.show()\n"
   ]
  },
  {
   "cell_type": "markdown",
   "id": "1f614ab6",
   "metadata": {},
   "source": [
    "# Question 7 - Sharing your Assignment Notebook"
   ]
  },
  {
   "cell_type": "markdown",
   "id": "b02b3702",
   "metadata": {},
   "source": [
    "Upload this notebook to your GitHub repository and submit the link as required."
   ]
  }
 ],
 "metadata": {},
 "nbformat": 4,
 "nbformat_minor": 5
}
